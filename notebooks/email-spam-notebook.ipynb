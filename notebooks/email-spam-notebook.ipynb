{
 "cells": [
  {
   "cell_type": "markdown",
   "id": "a570845bbafb5cdd",
   "metadata": {},
   "source": [
    "## Project - Email Spam Classification Model\n",
    "by [Arslan Khalid](https://www.linkedin.com/in/iarslankhalid)\n",
    "\n",
    "### Dataset - [SpamAssassin Public Corpus ](https://www.kaggle.com/datasets/beatoa/spamassassin-public-corpus) from kaggle.\n",
    "\n",
    "### Summary:\n",
    "In this project, I built a machine learning model with 97% accuracy to classify emails as spam or ham (non-spam) using text classification techniques. The project involved several steps, including data preprocessing, feature extraction, model training, and evaluation. The primary goal was to develop a reliable model that could accurately identify spam emails while maintaining high precision and recall.\n",
    "\n",
    "\n"
   ]
  },
  {
   "cell_type": "markdown",
   "id": "5c1780f06c854d9d",
   "metadata": {},
   "source": [
    "# 1. Loading & Cleaning the data"
   ]
  },
  {
   "cell_type": "code",
   "execution_count": 17,
   "id": "645bf68b8a470295",
   "metadata": {
    "ExecuteTime": {
     "end_time": "2024-09-05T01:52:25.847333Z",
     "start_time": "2024-09-05T01:52:25.836170Z"
    }
   },
   "outputs": [],
   "source": [
    "import os\n",
    "from bs4 import BeautifulSoup\n",
    "import email\n",
    "import numpy as np\n",
    "import matplotlib.pyplot as plt\n",
    "import seaborn as sns\n",
    "from sklearn.model_selection import train_test_split\n",
    "from sklearn.feature_extraction.text import TfidfVectorizer\n",
    "from sklearn.metrics import confusion_matrix\n",
    "import re\n"
   ]
  },
  {
   "cell_type": "code",
   "execution_count": 18,
   "id": "e676782bf03c90c0",
   "metadata": {
    "ExecuteTime": {
     "end_time": "2024-09-05T01:52:25.896468Z",
     "start_time": "2024-09-05T01:52:25.864143Z"
    }
   },
   "outputs": [],
   "source": [
    "# defining paths\n",
    "dataset_path = 'data/raw'\n",
    "hard_ham_path = os.path.join(dataset_path, \"hard_ham\")\n",
    "easy_ham_path = os.path.join(dataset_path, \"easy_ham\")\n",
    "spam_path = os.path.join(dataset_path, \"spam_2\")"
   ]
  },
  {
   "cell_type": "markdown",
   "id": "9537ab2b24ddfb90",
   "metadata": {},
   "source": [
    "## 1.1. Parsing the email\n",
    "Parsing email means separating different parts of email for easy access.\n",
    "1. Raw Email\n",
    "2. Date\n",
    "3. From\n",
    "4. to\n",
    "5. Body of the Email"
   ]
  },
  {
   "cell_type": "code",
   "execution_count": 19,
   "id": "6178fd50e46df58f",
   "metadata": {
    "ExecuteTime": {
     "end_time": "2024-09-05T01:52:25.964950Z",
     "start_time": "2024-09-05T01:52:25.934866Z"
    }
   },
   "outputs": [],
   "source": [
    "class ParsedEmail:\n",
    "    def __init__(self, raw_email, label = None):\n",
    "        self.raw_email = raw_email\n",
    "        self.email_message = None\n",
    "        self.Date = None\n",
    "        self.From = None\n",
    "        self.To = None\n",
    "        self.Subject = None\n",
    "        self.Body = None\n",
    "        self.Label = label\n",
    "        self._parse_email()\n",
    "\n",
    "    def _parse_email(self):\n",
    "        # Parse the email message\n",
    "        self.email_message = email.message_from_string(self.raw_email)\n",
    "\n",
    "        # Extract headers\n",
    "        self.Date = self.email_message.get('Date')\n",
    "        self.From = self.email_message.get('From')\n",
    "        self.To = self.email_message.get('To')\n",
    "        self.Subject = self.email_message.get('Subject')\n",
    "\n",
    "        # Extract and clean the body\n",
    "        self.Body = self._get_clean_body()\n",
    "\n",
    "    def _get_clean_body(self):\n",
    "        body = \"\"\n",
    "\n",
    "        # If the message is multipart, we need to extract the actual body part\n",
    "        if self.email_message.is_multipart():\n",
    "            for part in self.email_message.walk():\n",
    "                # Try to extract plain text first\n",
    "                if part.get_content_type() == 'text/plain':\n",
    "                    body = part.get_payload(decode=True).decode('utf-8', errors='ignore')\n",
    "                    break\n",
    "                # If HTML content is found, clean it up\n",
    "                elif part.get_content_type() == 'text/html':\n",
    "                    html_content = part.get_payload(decode=True).decode('utf-8', errors='ignore')\n",
    "                    body = self._clean_html(html_content)\n",
    "                    break\n",
    "        else:\n",
    "            # Handle single-part emails\n",
    "            if self.email_message.get_content_type() == 'text/plain':\n",
    "                body = self.email_message.get_payload(decode=True).decode('utf-8', errors='ignore')\n",
    "            elif self.email_message.get_content_type() == 'text/html':\n",
    "                html_content = self.email_message.get_payload(decode=True).decode('utf-8', errors='ignore')\n",
    "                body = self._clean_html(html_content)\n",
    "\n",
    "        # Clean the body (apply the same cleaning process from earlier)\n",
    "        body = re.sub(r'^\\s*>.*$', '', body, flags=re.MULTILINE)  # Remove quoted text\n",
    "        body = re.sub(r'https?://\\S+', '', body)  # Remove URLs\n",
    "        body = re.split(r'\\n--\\n', body)[0]  # Remove signature block\n",
    "        body = re.sub(r'\\s+', ' ', body).strip()  # Normalize whitespace\n",
    "        return body\n",
    "\n",
    "    @staticmethod\n",
    "    def _clean_html(html_content):\n",
    "        \"\"\"Removes HTML tags from content using BeautifulSoup\"\"\"\n",
    "        soup = BeautifulSoup(html_content, 'html.parser')\n",
    "        return soup.get_text(separator=' ') "
   ]
  },
  {
   "cell_type": "code",
   "execution_count": 20,
   "id": "1b6e43137b6e5cd0",
   "metadata": {
    "ExecuteTime": {
     "end_time": "2024-09-05T01:52:25.999069Z",
     "start_time": "2024-09-05T01:52:25.985111Z"
    }
   },
   "outputs": [],
   "source": [
    "def read_emails_from_folder(folder_path, label):\n",
    "    folder_emails = []\n",
    "    for filename in os.listdir(folder_path):\n",
    "        file_path = os.path.join(folder_path, filename)\n",
    "        with open(file_path, 'rb') as file:\n",
    "            try:\n",
    "                raw_email = file.read().decode('utf-8', errors='ignore')\n",
    "                parsed_email = ParsedEmail(raw_email, label)\n",
    "                folder_emails.append(parsed_email)\n",
    "            except Exception as e:\n",
    "                print(f\"Error reading {filename}: {e}\")\n",
    "    return folder_emails"
   ]
  },
  {
   "cell_type": "code",
   "execution_count": 21,
   "id": "512462e7e782ba7",
   "metadata": {
    "ExecuteTime": {
     "end_time": "2024-09-05T01:52:26.042013Z",
     "start_time": "2024-09-05T01:52:26.019070Z"
    }
   },
   "outputs": [],
   "source": [
    "test_email = read_emails_from_folder('data/raw/test', label = 0)"
   ]
  },
  {
   "cell_type": "code",
   "execution_count": 22,
   "id": "6c5a3d6f3631a82f",
   "metadata": {
    "ExecuteTime": {
     "end_time": "2024-09-05T01:52:26.091347Z",
     "start_time": "2024-09-05T01:52:26.083262Z"
    }
   },
   "outputs": [
    {
     "name": "stdout",
     "output_type": "stream",
     "text": [
      "\n",
      "Email Details:\n",
      "---------------\n",
      "Label: 0\n",
      "Date: Fri, 02 Aug 2002 23:37:59 0530\n",
      "From: \"Start Now\" <startnow2002@hotmail.com>\n",
      "To: ilug@linux.ie\n",
      "Subject: [ILUG] STOP THE MLM INSANITY\n",
      "\n",
      "Body:\n",
      "Greetings! You are receiving this letter because you have expressed an interest in receiving information about online business opportunities. If this is erroneous then please accept my most sincere apology. This is a one-time mailing, so no removal is necessary. If you've been burned, betrayed, and back-stabbed by multi-level marketing, MLM, then please read this letter. It could be the most important one that has ever landed in your Inbox. MULTI-LEVEL MARKETING IS A HUGE MISTAKE FOR MOST PEOPLE MLM has failed to deliver on its promises for the past 50 years. The pursuit of the \"MLM Dream\" has cost hundreds of thousands of people their friends, their fortunes and their sacred honor. The fact is that MLM is fatally flawed, meaning that it CANNOT work for most people. The companies and the few who earn the big money in MLM are NOT going to tell you the real story. FINALLY, there is someone who has the courage to cut through the hype and lies and tell the TRUTH about MLM. HERE'S GOOD NEWS There IS an alternative to MLM that WORKS, and works BIG! If you haven't yet abandoned your dreams, then you need to see this. Earning the kind of income you've dreamed about is easier than you think! With your permission, I'd like to send you a brief letter that will tell you WHY MLM doesn't work for most people and will then introduce you to something so new and refreshing that you'll wonder why you haven't heard of this before. I promise that there will be NO unwanted follow up, NO sales pitch, no one will call you, and your email address will only be used to send you the information. Period. To receive this free, life-changing information, simply click Reply, type \"Send Info\" in the Subject box and hit Send. I'll get the information to you within 24 hours. Just look for the words MLM WALL OF SHAME in your Inbox. Cordially, Siddhi P.S. Someone recently sent the letter to me and it has been the most eye-opening, financially beneficial information I have ever received. I honestly believe that you will feel the same way once you've read it. And it's FREE! ------------------------------------------------------------ This email is NEVER sent unsolicited. THIS IS NOT \"SPAM\". You are receiving this email because you EXPLICITLY signed yourself up to our list with our online signup form or through use of our FFA Links Page and E-MailDOM systems, which have EXPLICIT terms of use which state that through its use you agree to receive our emailings. You may also be a member of a Altra Computer Systems list or one of many numerous FREE Marketing Services and as such you agreed when you signed up for such list that you would also be receiving this emailing. Due to the above, this email message cannot be considered unsolicitated, or spam. ----------------------------------------------------------- -- Irish Linux Users' Group: ilug@linux.ie for (un)subscription information. List maintainer: listmaster@linux.ie\n",
      "\n"
     ]
    }
   ],
   "source": [
    "print(f\"\"\"\n",
    "Email Details:\n",
    "---------------\n",
    "Label: {test_email[0].Label}\n",
    "Date: {test_email[0].Date}\n",
    "From: {test_email[0].From}\n",
    "To: {test_email[0].To}\n",
    "Subject: {test_email[0].Subject}\n",
    "\n",
    "Body:\n",
    "{test_email[0].Body}\n",
    "\"\"\")\n"
   ]
  },
  {
   "cell_type": "markdown",
   "id": "a51f09cab3506268",
   "metadata": {},
   "source": [
    "## 1.2. Labeling:\n",
    "labeling the emails with their category\n",
    "- spam ==> 1\n",
    "- ham ==> 0"
   ]
  },
  {
   "cell_type": "code",
   "execution_count": 23,
   "id": "8720cedf7e1bf050",
   "metadata": {
    "ExecuteTime": {
     "end_time": "2024-09-05T01:52:36.221784Z",
     "start_time": "2024-09-05T01:52:26.191802Z"
    }
   },
   "outputs": [],
   "source": [
    "hard_ham_emails = read_emails_from_folder(hard_ham_path, label = 0)\n",
    "easy_ham_emails = read_emails_from_folder(easy_ham_path, label = 0)\n",
    "spam_emails = read_emails_from_folder(spam_path, label = 1)"
   ]
  },
  {
   "cell_type": "code",
   "execution_count": 24,
   "id": "bd1e661b1c420bcc",
   "metadata": {
    "ExecuteTime": {
     "end_time": "2024-09-05T01:52:36.264792Z",
     "start_time": "2024-09-05T01:52:36.247893Z"
    }
   },
   "outputs": [
    {
     "name": "stdout",
     "output_type": "stream",
     "text": [
      "The Need For Safety Is Real In 2002, You Might Only Get One Chance - Be Ready! Free Shipping & Handling Within The (USA) If You Order Before May 25, 2002! 3 Day Super Sale, Now Until May 7, 2002! Save Up To $30.00 On Some Items! IT'S GETTING TO BE SPRING AGAIN, PROTECT YOURSELF AS YOU WALK, JOG AND EXERCISE OUTSIDE. ALSO PROTECT YOUR LOVED ONES AS THEY RETURN HOME FROM COLLEGE! * LEGAL PROTECTION FOR COLLEGE STUDENTS! * GREAT UP'COMING OUTDOOR PROTECTION GIFTS! * THERE IS NOTHING WORTH MORE PROTECTING THAN LIFE! * OUR STUN DEVICES & PEPPER PRODUCTS ARE LEGAL PROTECTION! JOIN THE WAR ON CRIME! STUN GUNS AND BATONS EFFECTIVE - SAFE - NONLETHAL PROTECT YOUR LOVED ONES AND YOURSELF No matter who you are, no matter what City or Town you live in, if you live in America, you will be touched by crime. You hear about it on TV. You read about it in the newspaper. It's no secret that crime is a major problem in the U.S. today. Criminals are finding it easier to commit crimes all the time. Weapons are readily available. Our cities' police forces have more work than they can handle. Even if these criminal are caught, they won't be spending long in our nation's overcrowded jails. And while lawmakers are well aware of the crime problem, they don't seem to have any effective answers. Our Email Address: Merchants4all@aol.com INTERESTED: You will be protecting yourself within 7 days! Don't Wait, visit our web page below, and join The War On Crime! ***************** ***************** Well, there is an effective answer. Take responsibility for your own security. Our site has a variety of quality personal security products. Visit our site, choose the personal security products that are right for you. Use them, and join the war on crime! FREE PEPPER SPRAY WITH ANY STUN UNIT PURCHASE. (A Value of $15.95) We Ship Orders Within 5 To 7 Days, To Every State In The U.S.A. by UPS, FEDEX, or U.S. POSTAL SERVICE. Visa, MasterCard, American Express & Debt Card Gladly Accepted. Ask yourself this question, if you don't help your loved ones, who will? INTERESTED: ***************** ***************** ___The Stun Monster 625,000 Volts ($86.95) ___The Z-Force Slim Style 300,000 Volts ($64.95) ___The StunMaster 300,000 Volts Straight ($59.95) ___The StunMaster 300,000 Volts Curb ($59.95) ___The StunMaster 200,000 Volts Straight ($49.95) ___The StunMaster 200,000 Volts Curb ($49.95) ___The StunBaton 500,000 Volts ($89.95) ___The StunBaton 300,000 Volts ($79.95) ___Pen Knife (One $12.50, Two Or More $9.00) ___Wildfire Pepper Spray (One $15.95, Two Or More $11.75) ___Add $5.75 For Shipping & Handling Charge. To Order by postal mail, please send to the below address. Make payable to Mega Safety Technology. Mega Safety Technology 3215 Merrimac Ave. Dayton, Ohio 45405 Our Email Address: Merchants4all@aol.com Order by 24 Hour Fax!!! 775-257-6657. ***** Important Credit Card Information! Please Read Below! * Credit Card Address, City, State and Zip Code, must match billing address to be processed. CHECK____ MONEYORDER____ VISA____ MASTERCARD____ AmericanExpress___ Debt Card___ Name_______________________________________________________ (As it appears on Check or Credit Card) Address____________________________________________________ (As it appears on Check or Credit Card) ___________________________________________________ City,State,Zip(As it appears on Check or Credit Card) ___________________________________________________ Country ___________________________________________________ (Credit Card Number) Expiration Month_____ Year_____ ___________________________________________________ Authorized Signature *****IMPORTANT NOTE***** If Shipping Address Is Different From The Billing Address Above, Please Fill Out Information Below. Shipping Name______________________________________________ Shipping Address___________________________________________ ___________________________________________________________ Shipping City,State,Zip ___________________________________________________________ Country ___________________________________________________________ Email Address & Phone Number(Please Write Neat)\n"
     ]
    }
   ],
   "source": [
    "print(spam_emails[1].Body)"
   ]
  },
  {
   "cell_type": "code",
   "execution_count": 25,
   "id": "3794f4c4796ee198",
   "metadata": {
    "ExecuteTime": {
     "end_time": "2024-09-05T01:52:36.417092Z",
     "start_time": "2024-09-05T01:52:36.399402Z"
    }
   },
   "outputs": [],
   "source": [
    "# Combine all emails and labels (easy_ham, hard_ham, spam)\n",
    "emails = easy_ham_emails + hard_ham_emails + spam_emails\n",
    "\n",
    "bodies = [email.Body for email in emails]\n",
    "labels = [email.Label for email in emails]\n"
   ]
  },
  {
   "cell_type": "markdown",
   "id": "4555f279581e83cd",
   "metadata": {},
   "source": [
    "# 2. Preprocessing the training data\n",
    "\n",
    "Before we train the data... we need to perform some preprocessing to the training data, which includes:\n",
    "- Lowercasing\n",
    "- Remove stop words (like: and, is etc.)\n",
    "- Tokenization\n",
    "- Stemming (i.e - running --> run)\n",
    "- Remove punctuations."
   ]
  },
  {
   "cell_type": "code",
   "execution_count": 26,
   "id": "3c590d1041155023",
   "metadata": {
    "ExecuteTime": {
     "end_time": "2024-09-05T01:52:37.547971Z",
     "start_time": "2024-09-05T01:52:36.536789Z"
    }
   },
   "outputs": [],
   "source": [
    "import re\n",
    "from nltk.corpus import stopwords\n",
    "from nltk.tokenize import word_tokenize\n",
    "from nltk.stem import WordNetLemmatizer\n",
    "\n",
    "# nltk.download('punkt')\n",
    "# nltk.download('stopwords')\n",
    "# nltk.download('wordnet')"
   ]
  },
  {
   "cell_type": "code",
   "execution_count": 27,
   "id": "d9bb8e8b5c00e386",
   "metadata": {
    "ExecuteTime": {
     "end_time": "2024-09-05T01:52:37.576943Z",
     "start_time": "2024-09-05T01:52:37.555889Z"
    }
   },
   "outputs": [],
   "source": [
    "stemmer = WordNetLemmatizer()\n",
    "stopwords = set(stopwords.words('english'))\n",
    "\n",
    "def preprocess_email_body(body, l=stemmer, stop_words=stopwords):\n",
    "    # 1. Lowercasing\n",
    "    body = body.lower()\n",
    "\n",
    "    # 2. Remove punctuation\n",
    "    body = re.sub(r'[^\\w\\s]', '', body)\n",
    "\n",
    "    # 3. Tokenization\n",
    "    tokens = word_tokenize(body)\n",
    "\n",
    "    # 4. Remove stop words and perform stemming\n",
    "    processed_tokens = [l.lemmatize(word) for word in tokens if word not in stop_words]\n",
    "\n",
    "    # Join tokens back into a string\n",
    "    output = ' '.join(processed_tokens)\n",
    "    return output"
   ]
  },
  {
   "cell_type": "code",
   "execution_count": 28,
   "id": "4d07f848a0379427",
   "metadata": {
    "ExecuteTime": {
     "end_time": "2024-09-05T01:52:47.137324Z",
     "start_time": "2024-09-05T01:52:37.593327Z"
    }
   },
   "outputs": [],
   "source": [
    "# applying preprocessing to the bodies\n",
    "processed_email_bodies = list(map(preprocess_email_body, bodies))"
   ]
  },
  {
   "cell_type": "code",
   "execution_count": 29,
   "id": "79d52ff94e0e2ff7",
   "metadata": {
    "ExecuteTime": {
     "end_time": "2024-09-05T01:52:47.178784Z",
     "start_time": "2024-09-05T01:52:47.165458Z"
    }
   },
   "outputs": [
    {
     "name": "stdout",
     "output_type": "stream",
     "text": [
      "man threatens explosion moscow thursday august 22 2002 140 pm moscow ap security officer thursday seized unidentified man said armed explosive threatened blow truck front russia federal security service headquarters moscow ntv television reported officer seized automatic rifle man carrying man got truck taken custody ntv said detail immediately available man demanded talk high government official interfax itartass news agency said ekho moskvy radio reported wanted talk russian president vladimir putin police security force rushed security service building within block kremlin red square bolshoi ballet surrounded man claimed one half ton explosive news agency said negotiation continued one half hour outside building itartass interfax reported citing witness man later drove away building police escort drove street near moscow olympic penta hotel authority held negotiation moscow police press service said move appeared attempt security service get secure location yahoo group sponsor 4 dvd free sp join unsubscribe group send email forteanaunsubscribeegroupscom use yahoo group subject\n"
     ]
    }
   ],
   "source": [
    "print(processed_email_bodies[2])"
   ]
  },
  {
   "cell_type": "markdown",
   "id": "220c55165b880e6b",
   "metadata": {},
   "source": [
    "## 2.1. Vectorization:\n",
    "vectorization is the process of converting text or data into a numerical format that machine learning models can understand. In the context of natural language processing (NLP), it refers to transforming words, sentences, or documents into numerical vectors."
   ]
  },
  {
   "cell_type": "code",
   "execution_count": 30,
   "id": "487c3f294a511838",
   "metadata": {
    "ExecuteTime": {
     "end_time": "2024-09-05T01:52:48.293474Z",
     "start_time": "2024-09-05T01:52:47.367825Z"
    }
   },
   "outputs": [
    {
     "name": "stdout",
     "output_type": "stream",
     "text": [
      "X.shape = (4198, 5000)\n",
      "y.shape = (4198,)\n"
     ]
    }
   ],
   "source": [
    "vectorizer = TfidfVectorizer(max_features=5000)\n",
    "X = vectorizer.fit_transform(processed_email_bodies).toarray()\n",
    "y = np.array(labels)\n",
    "\n",
    "print(f\"{X.shape = }\")\n",
    "print(f\"{y.shape = }\")"
   ]
  },
  {
   "cell_type": "markdown",
   "id": "a71ca57b2f034652",
   "metadata": {},
   "source": [
    "# 3. Training the Model"
   ]
  },
  {
   "cell_type": "code",
   "execution_count": 31,
   "id": "74a0aab41e116c48",
   "metadata": {
    "ExecuteTime": {
     "end_time": "2024-09-05T01:52:48.351047Z",
     "start_time": "2024-09-05T01:52:48.332402Z"
    }
   },
   "outputs": [
    {
     "name": "stdout",
     "output_type": "stream",
     "text": [
      "len(easy_ham_emails) = 2551\n",
      "len(hard_ham_emails) = 250\n",
      "len(spam_emails) = 1397\n"
     ]
    }
   ],
   "source": [
    "print(f\"{len(easy_ham_emails) = }\")\n",
    "print(f\"{len(hard_ham_emails) = }\")\n",
    "print(f\"{len(spam_emails) = }\")"
   ]
  },
  {
   "cell_type": "markdown",
   "id": "4263cae6c673da8a",
   "metadata": {},
   "source": [
    "The training data is imbalanced\n",
    "- ham = 2801\n",
    "- spam = 1397\n",
    "\n",
    "To fix this issue we can oversample the minority (spam) class using SMOTE (Synthetic Minority Over-sampling Technique). "
   ]
  },
  {
   "cell_type": "markdown",
   "id": "c0f2c7cd121c3d7d",
   "metadata": {},
   "source": [
    "## 3.1. Oversampling through SMOTE"
   ]
  },
  {
   "cell_type": "code",
   "execution_count": 32,
   "id": "b9b9ebeadc4a3a90",
   "metadata": {
    "ExecuteTime": {
     "end_time": "2024-09-05T01:52:50.572354Z",
     "start_time": "2024-09-05T01:52:48.429915Z"
    }
   },
   "outputs": [
    {
     "name": "stdout",
     "output_type": "stream",
     "text": [
      "Original training set size: 2938\n",
      "Resampled training set size: 3888\n"
     ]
    }
   ],
   "source": [
    "from imblearn.over_sampling import SMOTE\n",
    "\n",
    "X_train, X_test, y_train, y_test = train_test_split(X, y, test_size=0.3, random_state=42)\n",
    "\n",
    "# Apply SMOTE to oversample the minority class (spam)\n",
    "smote = SMOTE(random_state=42)\n",
    "X_train_resampled, y_train_resampled = smote.fit_resample(X_train, y_train)\n",
    "\n",
    "print(f\"Original training set size: {len(X_train)}\")\n",
    "print(f\"Resampled training set size: {len(X_train_resampled)}\")"
   ]
  },
  {
   "cell_type": "code",
   "execution_count": 33,
   "id": "bd42a6803e5b508",
   "metadata": {
    "ExecuteTime": {
     "end_time": "2024-09-05T01:52:50.723644Z",
     "start_time": "2024-09-05T01:52:50.594797Z"
    }
   },
   "outputs": [
    {
     "name": "stdout",
     "output_type": "stream",
     "text": [
      "Accuracy: 0.97\n",
      "              precision    recall  f1-score   support\n",
      "\n",
      "           0       0.98      0.98      0.98       857\n",
      "           1       0.96      0.96      0.96       403\n",
      "\n",
      "    accuracy                           0.97      1260\n",
      "   macro avg       0.97      0.97      0.97      1260\n",
      "weighted avg       0.97      0.97      0.97      1260\n",
      "\n"
     ]
    }
   ],
   "source": [
    "from sklearn.naive_bayes import MultinomialNB\n",
    "from sklearn.metrics import accuracy_score, classification_report\n",
    "\n",
    "# Train the model\n",
    "model = MultinomialNB()\n",
    "model.fit(X_train_resampled, y_train_resampled)\n",
    "\n",
    "# Make predictions\n",
    "y_pred = model.predict(X_test)\n",
    "\n",
    "# Evaluate accuracy\n",
    "accuracy = accuracy_score(y_test, y_pred)\n",
    "print(f\"Accuracy: {accuracy:.2f}\")\n",
    "\n",
    "# Detailed performance report\n",
    "print(classification_report(y_test, y_pred))\n"
   ]
  },
  {
   "cell_type": "markdown",
   "id": "3c71d8684142c4e4",
   "metadata": {},
   "source": [
    "# 4. Evaluation - Confusion Matrix"
   ]
  },
  {
   "cell_type": "code",
   "execution_count": 34,
   "id": "b786e48a7eba524a",
   "metadata": {
    "ExecuteTime": {
     "end_time": "2024-09-05T01:52:51.277606Z",
     "start_time": "2024-09-05T01:52:50.777800Z"
    }
   },
   "outputs": [
    {
     "data": {
      "image/png": "[encoded data removed]",
      "text/plain": [
       "<Figure size 800x600 with 2 Axes>"
      ]
     },
     "metadata": {},
     "output_type": "display_data"
    }
   ],
   "source": [
    "# Compute confusion matrix\n",
    "conf_matrix = confusion_matrix(y_test, y_pred)\n",
    "\n",
    "# Create a heatmap\n",
    "plt.figure(figsize=(8, 6))\n",
    "sns.heatmap(conf_matrix, annot=True, fmt='d', cmap='Blues', xticklabels=['Ham', 'Spam'], yticklabels=['Ham', 'Spam'])\n",
    "plt.xlabel('Predicted')\n",
    "plt.ylabel('Actual')\n",
    "plt.title('Confusion Matrix')\n",
    "plt.show()\n"
   ]
  },
  {
   "cell_type": "code",
   "execution_count": null,
   "id": "6d9b2292105dd364",
   "metadata": {
    "ExecuteTime": {
     "end_time": "2024-09-05T01:52:51.351728Z",
     "start_time": "2024-09-05T01:52:51.335642Z"
    }
   },
   "outputs": [],
   "source": []
  }
 ],
 "metadata": {
  "kernelspec": {
   "display_name": "Python 3 (ipykernel)",
   "language": "python",
   "name": "python3"
  },
  "language_info": {
   "codemirror_mode": {
    "name": "ipython",
    "version": 3
   },
   "file_extension": ".py",
   "mimetype": "text/x-python",
   "name": "python",
   "nbconvert_exporter": "python",
   "pygments_lexer": "ipython3",
   "version": "3.11.7"
  }
 },
 "nbformat": 4,
 "nbformat_minor": 5
}
